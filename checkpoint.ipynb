{
 "cells": [
  {
   "cell_type": "code",
   "execution_count": null,
   "metadata": {},
   "outputs": [],
   "source": [
    "from traineval import train, eval\n",
    "model, mels = train(epochs=1000)"
   ]
  },
  {
   "cell_type": "code",
   "execution_count": null,
   "metadata": {},
   "outputs": [],
   "source": [
    "from importlib import reload\n",
    "import traineval\n",
    "reload(traineval)\n",
    "\n",
    "traineval.eval(model, 'cuda')\n",
    "\n",
    "from vocoder import Vocoder\n",
    "import soundfile as sf\n",
    "import scipy.io.wavfile\n",
    "vocoder = Vocoder().to('cuda:0').eval()\n",
    "for i in range(mels.shape[0]):\n",
    "    mel = mels[i:i+1].transpose(1,2)\n",
    "    wav = vocoder.inference(mel).cpu().numpy()\n",
    "    print(wav[0])\n",
    "    scipy.io.wavfile.write(str(i+10) + '.wav',22050, wav[0])"
   ]
  }
 ],
 "metadata": {
  "interpreter": {
   "hash": "916dbcbb3f70747c44a77c7bcd40155683ae19c65e1c03b4aa3499c5328201f1"
  },
  "kernelspec": {
   "display_name": "Python 3.8.10 64-bit",
   "language": "python",
   "name": "python3"
  },
  "language_info": {
   "codemirror_mode": {
    "name": "ipython",
    "version": 3
   },
   "file_extension": ".py",
   "mimetype": "text/x-python",
   "name": "python",
   "nbconvert_exporter": "python",
   "pygments_lexer": "ipython3",
   "version": "3.8.10"
  },
  "orig_nbformat": 4
 },
 "nbformat": 4,
 "nbformat_minor": 2
}
